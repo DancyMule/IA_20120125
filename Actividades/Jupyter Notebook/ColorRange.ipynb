{
 "cells": [
  {
   "cell_type": "markdown",
   "id": "281cd798",
   "metadata": {},
   "source": [
    "# COLOR SEGMENTATION IN VIDEO"
   ]
  },
  {
   "cell_type": "code",
   "execution_count": null,
   "id": "ca8f3ed6",
   "metadata": {},
   "outputs": [],
   "source": [
    "De igual forma que con las imagenes, se hace una mascara con el rango de colores desaeados."
   ]
  },
  {
   "cell_type": "code",
   "execution_count": null,
   "id": "e39e6ec6",
   "metadata": {},
   "outputs": [],
   "source": [
    "import cv2 as cv\n",
    "\n",
    "cap = cv.VideoCapture(0)\n",
    "while(True):\n",
    "    res , img = cap.read()\n",
    "    img2=cv.cvtColor(img, cv.COLOR_BGR2HSV)\n",
    "    vb=(120, 60,60)\n",
    "    va=(170, 255,255)\n",
    "    mask=cv.inRange(img2, vb,va)\n",
    "    res=cv.bitwise_and(img, img, mask=mask)\n",
    "    cv.imshow('captura', res)\n",
    "    if cv.waitKey(1) &0xFF == ord('s'):\n",
    "        break\n",
    "       \n",
    "cap.release()\n",
    "cv.destroyAllWindows()"
   ]
  },
  {
   "cell_type": "code",
   "execution_count": null,
   "id": "cd632973",
   "metadata": {},
   "outputs": [],
   "source": [
    "import cv2 as cv\n",
    "\n",
    "\n",
    "cap = cv.VideoCapture(0)\n",
    "while(True):\n",
    "    res , img = cap.read()\n",
    "    img2=cv.cvtColor(img, cv.COLOR_BGR2HSV)\n",
    "    ubb=(110,130,20)\n",
    "    uba=(150,200,150)\n",
    "    mask=cv.inRange(img2, ubb,uba)\n",
    "    res=cv.bitwise_and(img, img, mask=mask)\n",
    "    cv.imshow('Segmentado', res)\n",
    "    cv.imshow('Real', img)\n",
    "    ret, frame = cap.read()\n",
    "    height, width, _ = frame.shape\n",
    "    if cv.waitKey(1) &0xFF == ord('s'):\n",
    "        break\n",
    "       \n",
    "cap.release()\n",
    "cv.destroyAllWindows()"
   ]
  },
  {
   "cell_type": "markdown",
   "id": "d8ab0695",
   "metadata": {},
   "source": [
    "Podemos localizar la coordenada donde está el objeto. Lo ideal es analizar la máscara (Que es donde se mueve el objeto segmentado)."
   ]
  },
  {
   "cell_type": "code",
   "execution_count": null,
   "id": "e2793694",
   "metadata": {},
   "outputs": [],
   "source": [
    "import cv2 as cv\n",
    "cap = cv.VideoCapture(0)\n",
    "while(True):\n",
    "    res , img = cap.read()\n",
    "    img2=cv.cvtColor(img, cv.COLOR_BGR2HSV)\n",
    "    ubb=(110,130,20)\n",
    "    uba=(150,200,150)\n",
    "    mask=cv.inRange(img2, ubb,uba)\n",
    "    res=cv.bitwise_and(img, img, mask=mask)\n",
    "    cv.imshow('Segmentado', res)\n",
    "    cv.imshow('Real', img)\n",
    "    ret, frame = cap.read()\n",
    "    height, width, _ = frame.shape\n",
    "    if cv.waitKey(1) &0xFF == ord('s'):\n",
    "        break\n",
    "       \n",
    "cap.release()\n",
    "cv.destroyAllWindows()"
   ]
  },
  {
   "cell_type": "code",
   "execution_count": null,
   "id": "3f294264",
   "metadata": {},
   "outputs": [],
   "source": [
    "import cv2 as cv\n",
    "import numpy as np\n",
    "\n",
    "# Definimos la función para obtener los pixeles de la máscara\n",
    "def obtener_pixeles_mascara(mask):\n",
    "  # Encontramos los índices de los pixeles que coinciden con la máscara\n",
    "  y, x = np.where(mask == 255)\n",
    "\n",
    "  # Convertimos las coordenadas a enteros\n",
    "  x = x.astype(int)\n",
    "  y = y.astype(int)\n",
    "\n",
    "  # Devolvemos las coordenadas de los pixeles\n",
    "  return x, y\n",
    "\n",
    "# Capturamos la cámara web\n",
    "cap = cv.VideoCapture(0)\n",
    "\n",
    "while True:\n",
    "  # Leemos un fotograma\n",
    "  ret, img = cap.read()\n",
    "\n",
    "  # Convertimos el fotograma a HSV\n",
    "  img2 = cv.cvtColor(img, cv.COLOR_BGR2HSV)\n",
    "\n",
    "  # Definimos el rango de color para la máscara\n",
    "  ubb = (110, 130, 20)\n",
    "  uba = (150, 200, 150)\n",
    "\n",
    "  # Aplicamos la máscara al fotograma\n",
    "  mask = cv.inRange(img2, ubb, uba)\n",
    "\n",
    "  # Obtenemos los pixeles que cumplen con la máscara\n",
    "  pixeles_x, pixeles_y = obtener_pixeles_mascara(mask)\n",
    "\n",
    "  # Mostramos el fotograma original\n",
    "  cv.imshow('Real', img)\n",
    "\n",
    "  # Mostramos la máscara\n",
    "  cv.imshow('Segmentado', mask)\n",
    "\n",
    "  # Dibujamos un círculo rojo en cada pixel con la máscara\n",
    "  for i in range(len(pixeles_x)):\n",
    "    cv.circle(img, (pixeles_x[i], pixeles_y[i]), 5, (0, 0, 255), -1)\n",
    "\n",
    "  # Mostramos el fotograma con los pixeles marcados\n",
    "  cv.imshow('Localización por pixelaje', img)\n",
    "\n",
    "  # Salimos del bucle si se presiona la tecla \"s\"\n",
    "  if cv.waitKey(1) & 0xFF == ord('s'):\n",
    "    break\n",
    "cap.release()\n",
    "cv.destroyAllWindows()\n"
   ]
  },
  {
   "cell_type": "code",
   "execution_count": null,
   "id": "8adba8dd",
   "metadata": {},
   "outputs": [],
   "source": []
  }
 ],
 "metadata": {
  "kernelspec": {
   "display_name": "Python 3 (ipykernel)",
   "language": "python",
   "name": "python3"
  },
  "language_info": {
   "codemirror_mode": {
    "name": "ipython",
    "version": 3
   },
   "file_extension": ".py",
   "mimetype": "text/x-python",
   "name": "python",
   "nbconvert_exporter": "python",
   "pygments_lexer": "ipython3",
   "version": "3.11.5"
  }
 },
 "nbformat": 4,
 "nbformat_minor": 5
}
