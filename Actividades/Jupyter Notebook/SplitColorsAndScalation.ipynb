{
 "cells": [
  {
   "cell_type": "markdown",
   "id": "2ec081c6",
   "metadata": {},
   "source": [
    "# Escalamiento Y CANALES RGB"
   ]
  },
  {
   "cell_type": "code",
   "execution_count": 1,
   "id": "f9b07f45",
   "metadata": {},
   "outputs": [],
   "source": [
    "import cv2 as cv\n",
    "import numpy as np"
   ]
  },
  {
   "cell_type": "markdown",
   "id": "f025e5c8",
   "metadata": {},
   "source": [
    "Con este código generaremos una ventana de escalamiento al doble del tamaño de la imagen que fue leída."
   ]
  },
  {
   "cell_type": "code",
   "execution_count": null,
   "id": "f5e5756a",
   "metadata": {},
   "outputs": [],
   "source": [
    "img = cv.imread('C:\\\\Users\\\\Jorgi\\\\pictures\\\\imagen2.png', 0)\n",
    "w,h = img.shape[:2]\n",
    "img2 = np.zeros((w*2, h*2), dtype='uint8')\n",
    "cv.imshow('Ejemplo', img)\n",
    "cv.imshow('Ejemplo2', img2)     \n",
    "cv.waitKey(0)\n",
    "cv.destroyAllWindows()"
   ]
  },
  {
   "cell_type": "markdown",
   "id": "8b704dd9",
   "metadata": {},
   "source": [
    "De esta manera se puede desplazar la distancia entre un pixel y otro."
   ]
  },
  {
   "cell_type": "code",
   "execution_count": null,
   "id": "1651d618",
   "metadata": {},
   "outputs": [],
   "source": [
    "img = cv.imread('C:\\\\Users\\\\Jorgi\\\\pictures\\\\imagen2.png', 0)\n",
    "w,h = img.shape[:2]\n",
    "img2 = np.zeros((w*2, h*2), dtype='uint8')\n",
    "for i in range (w):\n",
    "    for j in range (h):\n",
    "        img2[i*2,j*2] = img[i,j]\n",
    "cv.imshow('Ejemplo', img)\n",
    "cv.imshow('Ejemplo2', img2)     \n",
    "cv.waitKey(0)\n",
    "cv.destroyAllWindows()"
   ]
  },
  {
   "cell_type": "markdown",
   "id": "371ad4df",
   "metadata": {},
   "source": [
    "Incluso se puede triplicar la distancia (o más si se necesita)."
   ]
  },
  {
   "cell_type": "code",
   "execution_count": null,
   "id": "4f73ae78",
   "metadata": {},
   "outputs": [],
   "source": [
    "img = cv.imread('C:\\\\Users\\\\Jorgi\\\\pictures\\\\imagen2.png', 0)\n",
    "w,h = img.shape[:2]\n",
    "img2 = np.zeros((w*3, h*3), dtype='uint8')\n",
    "for i in range (w):\n",
    "    for j in range (h):\n",
    "        img2[i*3,j*3] = img[i,j]\n",
    "cv.imshow('Ejemplo', img)\n",
    "cv.imshow('Ejemplo2', img2)     \n",
    "cv.waitKey(0)\n",
    "cv.destroyAllWindows()"
   ]
  },
  {
   "cell_type": "markdown",
   "id": "a2555e03",
   "metadata": {},
   "source": [
    "Si tenemos un volumen amplio de imagenes podemos aplicarle esto a todas para normalizar el tamaño de todas. Opencv ya incluye transoformaciones geométricas."
   ]
  },
  {
   "cell_type": "markdown",
   "id": "7f86279b",
   "metadata": {},
   "source": [
    "Podemos escalarcon interpolación de area (Lo cual nos permitirá usar colores)"
   ]
  },
  {
   "cell_type": "code",
   "execution_count": null,
   "id": "4a07e80a",
   "metadata": {},
   "outputs": [],
   "source": [
    "def escala(imx, escala):\n",
    "    width = int(imx.shape[1]*escala/100)\n",
    "    height = int(imx.shape[0]*escala/100)\n",
    "    size = (width, height)\n",
    "    im = cv.resize(imx, size, interpolation = cv.INTER_AREA)\n",
    "    return im\n",
    "\n",
    "img = cv.imread('C:\\\\Users\\\\Jorgi\\\\pictures\\\\imagen2.png', 1)\n",
    "r,g,b = cv.split(img)\n",
    "img2 = escala(img, 200)\n",
    "cv.imshow('Ejemplo', img)\n",
    "cv.imshow('Ejemplo2', img2)  \n",
    "cv.waitKey(0)\n",
    "cv.destroyAllWindows()"
   ]
  },
  {
   "cell_type": "markdown",
   "id": "d96b4c96",
   "metadata": {},
   "source": [
    "Con la fución merge podemos mostrar solo los colores deseados en canales RGB"
   ]
  },
  {
   "cell_type": "code",
   "execution_count": null,
   "id": "8dc578ff",
   "metadata": {},
   "outputs": [],
   "source": [
    "\n",
    "\n",
    "img = cv.imread('C:\\\\Users\\\\Jorgi\\\\pictures\\\\imagen3.png', 1)\n",
    "w,h = img.shape[:2]\n",
    "r,g,b = cv.split(img)\n",
    "img2 = np.zeros((w, h), dtype='uint8')\n",
    "r = cv.merge([r, img2, img2])\n",
    "g = cv.merge([img2, g,  img2])\n",
    "b = cv.merge([img2, img2, b])\n",
    "cv.imshow('red', r)\n",
    "cv.imshow('green', g)\n",
    "cv.imshow('blue', b)\n",
    "img2 = escala(img, 200)\n",
    "cv.imshow('Original', img)\n",
    "cv.waitKey(0)\n",
    "cv.destroyAllWindows()"
   ]
  },
  {
   "cell_type": "code",
   "execution_count": null,
   "id": "1b729721",
   "metadata": {},
   "outputs": [],
   "source": [
    "def escala(imx, escala):\n",
    "    width = int(imx.shape[1]*escala/100)\n",
    "    height = int(imx.shape[0]*escala/100)\n",
    "    size = (width, height)\n",
    "    im = cv.resize(imx, size, interpolation = cv.INTER_AREA)\n",
    "    return im"
   ]
  },
  {
   "cell_type": "markdown",
   "id": "a0bde99b",
   "metadata": {},
   "source": [
    "Podemos realizar cambios específicos deseados organizando como deseemos las combinaciones de canales de colores.\n",
    "\n",
    "Las posiciones serán  RGB, pero podemos sacar un canal de de color específico e insertarlo ese contenido en otro canal."
   ]
  },
  {
   "cell_type": "code",
   "execution_count": null,
   "id": "9c0fed75",
   "metadata": {},
   "outputs": [],
   "source": [
    "img = cv.imread('C:\\\\Users\\\\Jorgi\\\\pictures\\\\imagen3.png', 1)\n",
    "w,h = img.shape[:2]\n",
    "r,g,b = cv.split(img)\n",
    "#img2 = np.zeros((w, h), dtype='uint8')\n",
    "r1 = cv.merge([g, r, b])\n",
    "g1 = cv.merge([b, r, g])\n",
    "b1 = cv.merge([r, b, g])\n",
    "cv.imshow('red', r1)\n",
    "cv.imshow('green', g1)\n",
    "cv.imshow('blue', b1)\n",
    "#img2 = escala(img, 200)\n",
    "cv.imshow('Original', img)\n",
    "cv.waitKey(0)\n",
    "cv.destroyAllWindows()"
   ]
  },
  {
   "cell_type": "code",
   "execution_count": null,
   "id": "f74bd9cb",
   "metadata": {},
   "outputs": [],
   "source": []
  }
 ],
 "metadata": {
  "kernelspec": {
   "display_name": "Python 3 (ipykernel)",
   "language": "python",
   "name": "python3"
  },
  "language_info": {
   "codemirror_mode": {
    "name": "ipython",
    "version": 3
   },
   "file_extension": ".py",
   "mimetype": "text/x-python",
   "name": "python",
   "nbconvert_exporter": "python",
   "pygments_lexer": "ipython3",
   "version": "3.11.5"
  }
 },
 "nbformat": 4,
 "nbformat_minor": 5
}
