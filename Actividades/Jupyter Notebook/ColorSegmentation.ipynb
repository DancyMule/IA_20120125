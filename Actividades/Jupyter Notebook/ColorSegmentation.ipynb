{
 "cells": [
  {
   "cell_type": "markdown",
   "id": "64aefcd3",
   "metadata": {},
   "source": [
    "# SEGEMENTACIÓN DE COLORES EN MÁSCARAS"
   ]
  },
  {
   "cell_type": "markdown",
   "id": "3e0fe65c",
   "metadata": {},
   "source": [
    "Esto se realiza para poder identificar una combinación de máscaras, que viene siendo una serie de colores; en el caso de \"¿Dónde está Wally?\" posee una combinación de colores muy específica; por lo que con este metodo podemos encontrarlo más facilmente"
   ]
  },
  {
   "cell_type": "code",
   "execution_count": null,
   "id": "297cbbfa",
   "metadata": {},
   "outputs": [],
   "source": [
    "import cv2 as cv\n",
    "img = cv.imread('C:\\\\Users\\\\Jorgi\\\\pictures\\imagen5.png', 1)\n",
    "img2 = cv.cvtColor(img, cv.COLOR_BGR2HSV)\n",
    "\n",
    "ubb = (0,60,0)\n",
    "uba = (10, 255, 255)\n",
    "\n",
    "ubb1 = (170,60,60)\n",
    "uba1 = (180,255,255)\n",
    "\n",
    "ubb2 = (200, 10, 0)\n",
    "uba2 = (245, 209, 133)\n",
    "\n",
    "ubb3 = (0, 100, 203)\n",
    "uba3 = (81, 100, 203)\n",
    "\n",
    "\n",
    "mask1 = cv.inRange(img2, ubb ,uba)\n",
    "mask2 = cv.inRange(img2, ubb1 ,uba1)\n",
    "mask3 = cv.inRange(img2, ubb2 ,uba2)\n",
    "mask4 = cv.inRange(img2, ubb3 ,uba3)\n",
    "\n",
    "mask5 = mask1 + mask2 + mask3 + mask4\n",
    "\n",
    "img3 = cv.bitwise_and(img, img, mask=mask5)\n",
    "cv.imshow('img', img3)\n",
    "#cv.imshow('img2', img)\n",
    "cv.waitKey(0)\n",
    "cv.destroyAllWindows()"
   ]
  },
  {
   "cell_type": "markdown",
   "id": "05eb9040",
   "metadata": {},
   "source": [
    "Podemos colocar las escalas HSV del rango de colores deseado"
   ]
  },
  {
   "cell_type": "code",
   "execution_count": null,
   "id": "d4777314",
   "metadata": {},
   "outputs": [],
   "source": [
    "cap = cv.VideoCapture(0)\n",
    "while(True):\n",
    "    ret, img = cap.read()\n",
    "    r,g,b = cv.split(img)\n",
    "    img2 = cv.cvtColor(img, cv.COLOR_BGR2HSV)\n",
    "    ubb = (145, 250, 183)\n",
    "    uba = (19, 3, 28)\n",
    "    mask = cv.inRange(img, ubb ,uba)\n",
    "    img3 = cv.bitwise_and(img, img, mask=mask)\n",
    "    if ret == True:\n",
    "        \n",
    "        cv.imshow('video', img)\n",
    "        #cv.imshow('video2', img2)\n",
    "        cv.imshow('video2', img3)\n",
    "        #imshow('r', r)\n",
    "        #cv.imshow('g', g)\n",
    "        #cv.imshow('b', b)\n",
    "        k = cv.waitKey(1) & 0xFF\n",
    "        if k == 27 :\n",
    "            break\n",
    "    else:\n",
    "        break\n",
    "cap.release()\n",
    "cv.destroyAllWindows()"
   ]
  },
  {
   "cell_type": "code",
   "execution_count": 1,
   "id": "48abd378",
   "metadata": {},
   "outputs": [],
   "source": [
    "import cv2 as cv"
   ]
  },
  {
   "cell_type": "code",
   "execution_count": null,
   "id": "5fd8ca01",
   "metadata": {},
   "outputs": [],
   "source": []
  }
 ],
 "metadata": {
  "kernelspec": {
   "display_name": "Python 3 (ipykernel)",
   "language": "python",
   "name": "python3"
  },
  "language_info": {
   "codemirror_mode": {
    "name": "ipython",
    "version": 3
   },
   "file_extension": ".py",
   "mimetype": "text/x-python",
   "name": "python",
   "nbconvert_exporter": "python",
   "pygments_lexer": "ipython3",
   "version": "3.11.5"
  }
 },
 "nbformat": 4,
 "nbformat_minor": 5
}
