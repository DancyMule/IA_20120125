{
 "cells": [
  {
   "cell_type": "markdown",
   "id": "90634c4f",
   "metadata": {},
   "source": [
    "# FacialRecognize"
   ]
  },
  {
   "cell_type": "markdown",
   "id": "3eb759f0",
   "metadata": {},
   "source": [
    "mediante el archivo xml puedes reconocer ciertos patrones asociados a un rostro."
   ]
  },
  {
   "cell_type": "code",
   "execution_count": null,
   "id": "db96141e",
   "metadata": {},
   "outputs": [],
   "source": [
    "import cv2 as cv\n",
    "\n",
    "cap = cv.VideoCapture(0)\n",
    "while(True):\n",
    "    ret, img = cap.read()\n",
    "    if ret == True:\n",
    "        img2 = cv.cvtColor(img, cv.COLOR_BGR2HSV)\n",
    "        ubb=(100,0,0)\n",
    "        uba=(110, 255, 255)\n",
    "        mask = cv.inRange(img2, ubb, uba) \n",
    "        res = cv.bitwise_and(img,img, mask-mask)\n",
    "        cv.imshow('img2', img)\n",
    "        cv.imshow('res', res)\n",
    "        cv.imshow('mask', mask)\n",
    "        k =cv.waitKey(20) & 0xFF\n",
    "        if k == 27 :\n",
    "            break\n",
    "cap.release()\n",
    "cv.destroyAllWindows()"
   ]
  },
  {
   "cell_type": "code",
   "execution_count": null,
   "id": "4ce58a1a",
   "metadata": {},
   "outputs": [],
   "source": [
    "import numpy as np\n",
    "import cv2 as cv\n",
    "import math\n",
    "rostro = cv.CascadeClassifier('C:\\\\Users\\\\Jorgi\\\\Desktop\\\\Inteligencia Artificial\\\\haarcascade_frontalface_alt.xml')\n",
    "\n",
    "cap = cv.VideoCapture(0)\n",
    "while True:\n",
    "    ret, frame = cap.read()\n",
    "    gray = cv.cvtColor(frame, cv.COLOR_BGR2GRAY)\n",
    "    rostros = rostro.detectMultiScale(gray, 1.3, 5)\n",
    "    for(x, y, w, h) in rostros:\n",
    "        frame = cv.rectangle(frame, (x,y), (x+w, y+h), (0, 255, 0), 2)\n",
    "    cv.imshow('rostros', frame)\n",
    "    k =cv.waitKey(1)\n",
    "    if k == 27 :\n",
    "        break\n",
    "cap.release()\n",
    "cv.destroyAllWindows()"
   ]
  },
  {
   "cell_type": "markdown",
   "id": "52b448c8",
   "metadata": {},
   "source": [
    "Podemos guardar el segmentado del rostro encontrado, con esto crearemos nuestro propio DataSet; solo falta acondicionar el tamaño real del pixelaje."
   ]
  },
  {
   "cell_type": "markdown",
   "id": "6534893a",
   "metadata": {},
   "source": [
    "Con la información (frame) ya segmenteado (frame 2) ahora debemos estandarizar el tamaño. "
   ]
  },
  {
   "cell_type": "code",
   "execution_count": null,
   "id": "c4e59065",
   "metadata": {},
   "outputs": [],
   "source": [
    "import numpy as np\n",
    "import cv2 as cv\n",
    "import math\n",
    "rostro = cv.CascadeClassifier('C:\\\\Users\\\\Jorgi\\\\Desktop\\\\Inteligencia Artificial\\\\haarcascade_frontalface_alt.xml')\n",
    "\n",
    "cap = cv.VideoCapture(0)\n",
    "i = 0\n",
    "while True:\n",
    "    ret, frame = cap.read()\n",
    "    gray = cv.cvtColor(frame, cv.COLOR_BGR2GRAY)\n",
    "    rostros = rostro.detectMultiScale(gray, 1.3, 5)\n",
    "    for(x, y, w, h) in rostros:\n",
    "        #frame = cv.rectangle(frame, (x,y), (x+w, y+h), (0, 255, 0), 2)\n",
    "        frame2 = frame[y:y+h, x:x+w]\n",
    "        frame2 = cv.resize(frame2, (100, 100), interpolation = cv.INTER_AREA)\n",
    "        cv.imshow('rostros encontrados', frame2)\n",
    "        cv.imwrite('D:\\\\MuestreoRostros\\\\Enojado\\\\'+str(i)+'.png', frame2)\n",
    "    #cv.imshow('rostros', frame) \n",
    "    i=i+1\n",
    "    k =cv.waitKey(1)\n",
    "    if k == 27 :\n",
    "        break\n",
    "cap.release()\n",
    "cv.destroyAllWindows()"
   ]
  },
  {
   "cell_type": "markdown",
   "id": "19bd6a30",
   "metadata": {},
   "source": [
    "Generar XML"
   ]
  },
  {
   "cell_type": "code",
   "execution_count": null,
   "id": "5b490e66",
   "metadata": {},
   "outputs": [],
   "source": [
    "import cv2 as cv \n",
    "import numpy as np \n",
    "import os\n",
    "#rostro = cv.CascadeClassifier('C:\\\\Users\\\\Jorgi\\\\Desktop\\\\Inteligencia Artificial\\\\haarcascade_frontalface_alt.xml')\n",
    "dataSet = 'D:\\\\MuestreoRostros'\n",
    "faces  = os.listdir(dataSet)\n",
    "print(faces)\n",
    "\n",
    "labels = []\n",
    "facesData = []\n",
    "label = 0 \n",
    "for face in faces:\n",
    "    facePath = dataSet+'\\\\'+face\n",
    "    for faceName in os.listdir(facePath):\n",
    "        labels.append(label)\n",
    "        facesData.append(cv.imread(facePath+'\\\\'+faceName,0))\n",
    "    label = label + 1\n",
    "print(np.count_nonzero(np.array(labels)==0)) \n",
    "\n",
    "faceRecognizer = cv.face.EigenFaceRecognizer_create()\n",
    "faceRecognizer.train(facesData, np.array(labels))\n",
    "faceRecognizer.write('D:\\\\RostrosXML\\\\EigenfaceJorge.xml')\n"
   ]
  },
  {
   "cell_type": "code",
   "execution_count": null,
   "id": "e25fcbbd",
   "metadata": {},
   "outputs": [],
   "source": [
    "pwd\n"
   ]
  },
  {
   "cell_type": "markdown",
   "id": "97ce709f",
   "metadata": {},
   "source": [
    "Generar xml"
   ]
  },
  {
   "cell_type": "code",
   "execution_count": null,
   "id": "9befe2dd",
   "metadata": {},
   "outputs": [],
   "source": [
    "import cv2 as cv \n",
    "import numpy as np \n",
    "import os\n",
    "#rostro = cv.CascadeClassifier('C:\\\\Users\\\\Jorgi\\\\Desktop\\\\Inteligencia Artificial\\\\haarcascade_frontalface_alt.xml')\n",
    "dataSet = 'D:\\\\MuestreoRostros'\n",
    "faces  = os.listdir(dataSet)\n",
    "print(faces)\n",
    "labels = []\n",
    "facesData = []\n",
    "label = 0 \n",
    "for face in faces:\n",
    "    facePath = dataSet+'/'+face\n",
    "    for faceName in os.listdir(facePath):\n",
    "        labels.append(label)\n",
    "        facesData.append(cv.imread(facePath+'/'+faceName,0))\n",
    "    label = label + 1\n",
    "print(np.count_nonzero(np.array(labels)==0)) \n",
    "faceRecognizer = cv.face.EigenFaceRecognizer_create()\n",
    "faceRecognizer.train(facesData, np.array(labels))\n",
    "faceRecognizer.write('D:\\\\RostrosXML\\\\EigenfaceJorge.xml')\n",
    "\n"
   ]
  },
  {
   "cell_type": "markdown",
   "id": "8ae3944b",
   "metadata": {},
   "source": [
    "A buscar rostros"
   ]
  },
  {
   "cell_type": "code",
   "execution_count": null,
   "id": "05514bd3",
   "metadata": {},
   "outputs": [],
   "source": [
    "import cv2 as cv\n",
    "import os \n",
    "\n",
    "faceRecognizer = cv.face.EigenFaceRecognizer_create()\n",
    "faceRecognizer.read('D:\\\\RostrosXML\\\\EigenfaceJorge.xml')\n",
    "\n",
    "cap = cv.VideoCapture(0)\n",
    "rostro = cv.CascadeClassifier('C:\\\\Users\\\\Jorgi\\\\Desktop\\\\Inteligencia Artificial\\\\haarcascade_frontalface_alt.xml')\n",
    "while True:\n",
    "    ret, frame = cap.read()\n",
    "    if ret == False: break\n",
    "    gray = cv.cvtColor(frame, cv.COLOR_BGR2GRAY)\n",
    "    cpGray = gray.copy()\n",
    "    rostros = rostro.detectMultiScale(gray, 1.3, 3)\n",
    "    for(x, y, w, h) in rostros:\n",
    "        frame2 = cpGray[y:y+h, x:x+w]\n",
    "        frame2 = cv.resize(frame2,  (100,100), interpolation=cv.INTER_CUBIC)\n",
    "        result = faceRecognizer.predict(frame2)\n",
    "        #cv.putText(frame, '{}'.format(result), (x,y-20), 1,3.3, (0,0,0), 1, cv.LINE_AA)\n",
    "        if result[1] > 2800:\n",
    "            cv.putText(frame,'{}'.format(faces[result[0]]),(x,y-25),2,1.1,(0,255,0),1,cv.LINE_AA)\n",
    "            cv.rectangle(frame, (x,y),(x+w,y+h),(0,255,0),2)\n",
    "        else:\n",
    "            cv.putText(frame,'Desconocido',(x,y-20),2,0.8,(0,0,255),1,cv.LINE_AA)\n",
    "            cv.rectangle(frame, (x,y),(x+w,y+h),(0,0,255),2)\n",
    "    cv.imshow('frame', frame)\n",
    "    k = cv.waitKey(1)\n",
    "    if k == 27:\n",
    "        break\n",
    "cap.release()\n",
    "cv.destroyAllWindows()"
   ]
  },
  {
   "cell_type": "markdown",
   "id": "1f151a72-8e40-49e5-9812-79cf4e67858a",
   "metadata": {},
   "source": [
    "## Agent Face"
   ]
  },
  {
   "cell_type": "markdown",
   "id": "0797df4c-6de8-4143-9cd9-981109618d35",
   "metadata": {},
   "source": [
    "Siempre hay que tener en cuenta el tamaño de la imagen y que no se mezcle la información\n",
    "\n",
    "Puedes cambiar el nombre a los archivos, lo que importa es que estén contenidos dentro de una misma carpeta"
   ]
  },
  {
   "cell_type": "markdown",
   "id": "362d075f-afc9-4cbb-8d98-6688df7a124c",
   "metadata": {},
   "source": [
    "Debemos crear un Fisher Face"
   ]
  },
  {
   "cell_type": "code",
   "execution_count": 5,
   "id": "82dd0720-fef1-4c3e-bee9-8e610ffacad9",
   "metadata": {},
   "outputs": [
    {
     "name": "stdout",
     "output_type": "stream",
     "text": [
      "['Angel', 'Enojado', 'Feliz', 'Jonhy', 'Jorge', 'Leo', 'Moi', 'Pancho', 'Triste']\n"
     ]
    }
   ],
   "source": [
    "import cv2 as cv \n",
    "import numpy as np \n",
    "import os\n",
    "\n",
    "dataSet = 'D:\\\\MuestreoRostros'\n",
    "faces  = os.listdir(dataSet)\n",
    "print(faces)\n",
    "\n",
    "labels = []\n",
    "facesData = []\n",
    "label = 0 \n",
    "for face in faces:\n",
    "    facePath = dataSet+'\\\\'+face\n",
    "    for faceName in os.listdir(facePath):\n",
    "        labels.append(label)\n",
    "        facesData.append(cv.imread(facePath+'\\\\'+faceName,0))\n",
    "    label = label + 1\n",
    "#print(np.count_nonzero(np.array(labels)==0)) \n",
    "faceRecognizer = cv.face.FisherFaceRecognizer_create()\n",
    "faceRecognizer.train(facesData, np.array(labels))\n",
    "faceRecognizer.write('D:\\\\RostrosXML\\\\FisherFaceJorge.xml')\n",
    "\n"
   ]
  },
  {
   "cell_type": "markdown",
   "id": "797d2534-03cd-4341-9e2e-892e0c84be91",
   "metadata": {},
   "source": [
    "Así mismo, la lectura se hará con Fisher"
   ]
  },
  {
   "cell_type": "code",
   "execution_count": 7,
   "id": "d7adb64b-26a4-4ffd-b230-521948dc8a28",
   "metadata": {},
   "outputs": [],
   "source": [
    "import cv2 as cv\n",
    "import os \n",
    "\n",
    "faceRecognizer = cv.face.FisherFaceRecognizer_create()\n",
    "faceRecognizer.read('D:\\\\RostrosXML\\\\FisherFaceJorge.xml')\n",
    "\n",
    "cap = cv.VideoCapture(0)\n",
    "rostro = cv.CascadeClassifier('C:\\\\Users\\\\Jorgi\\\\Desktop\\\\Inteligencia Artificial\\\\haarcascade_frontalface_alt.xml')\n",
    "while True:\n",
    "    ret, frame = cap.read()\n",
    "    if ret == False: break\n",
    "    gray = cv.cvtColor(frame, cv.COLOR_BGR2GRAY)\n",
    "    cpGray = gray.copy()\n",
    "    rostros = rostro.detectMultiScale(gray, 1.3, 3)\n",
    "    for(x, y, w, h) in rostros:\n",
    "        frame2 = cpGray[y:y+h, x:x+w]\n",
    "        frame2 = cv.resize(frame2,  (100,100), interpolation=cv.INTER_CUBIC)\n",
    "        result = faceRecognizer.predict(frame2)\n",
    "        #cv.putText(frame, '{}'.format(result), (x,y-20), 1,3.3, (0,0,0), 1, cv.LINE_AA)\n",
    "        if result[1] < 500:\n",
    "            cv.putText(frame,'{}'.format(faces[result[0]]),(x,y-25),2,1.1,(0,255,0),1,cv.LINE_AA)\n",
    "            cv.rectangle(frame, (x,y),(x+w,y+h),(0,255,0),2)\n",
    "        else:\n",
    "            cv.putText(frame,'Desconocido',(x,y-20),2,0.8,(0,0,255),1,cv.LINE_AA)\n",
    "            cv.rectangle(frame, (x,y),(x+w,y+h),(0,0,255),2)\n",
    "    cv.imshow('frame', frame)\n",
    "    k = cv.waitKey(1)\n",
    "    if k == 27:\n",
    "        break\n",
    "cap.release()\n",
    "cv.destroyAllWindows()"
   ]
  },
  {
   "cell_type": "code",
   "execution_count": null,
   "id": "f6d94e54-d56c-4fb7-85c2-fb43286eb832",
   "metadata": {},
   "outputs": [],
   "source": []
  }
 ],
 "metadata": {
  "kernelspec": {
   "display_name": "Python 3 (ipykernel)",
   "language": "python",
   "name": "python3"
  },
  "language_info": {
   "codemirror_mode": {
    "name": "ipython",
    "version": 3
   },
   "file_extension": ".py",
   "mimetype": "text/x-python",
   "name": "python",
   "nbconvert_exporter": "python",
   "pygments_lexer": "ipython3",
   "version": "3.10.7"
  }
 },
 "nbformat": 4,
 "nbformat_minor": 5
}
