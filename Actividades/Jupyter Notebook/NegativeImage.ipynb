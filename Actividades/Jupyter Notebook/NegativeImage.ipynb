{
 "cells": [
  {
   "cell_type": "markdown",
   "id": "41ba4b86",
   "metadata": {},
   "source": [
    "# IMPORTAR UNA IMAGEN Y PASARLA A NEGATIVO"
   ]
  },
  {
   "cell_type": "code",
   "execution_count": 2,
   "id": "bb820d4f",
   "metadata": {},
   "outputs": [],
   "source": [
    "import cv2 as cv"
   ]
  },
  {
   "cell_type": "code",
   "execution_count": 17,
   "id": "3d829a57",
   "metadata": {},
   "outputs": [
    {
     "name": "stdout",
     "output_type": "stream",
     "text": [
      "(1000, 1000)\n"
     ]
    }
   ],
   "source": [
    "img = cv.imread('C:\\\\Users\\\\Jorgi\\\\pictures\\\\imagen.jpg', 0)\n",
    "print(img.shape)\n",
    "w, h = img.shape\n",
    "cv.imshow('Ejemplo', img)\n",
    "for i in range(w):\n",
    "    for j in range(h):\n",
    "        #img[i,j] = 255-img[i,j]\n",
    "        if(img[i,j]>150):\n",
    "            img[i,j]=255\n",
    "        else:\n",
    "            img[i,j]=0\n",
    "cv.imshow('Ejemplo2', img)            \n",
    "cv.waitKey(0)\n",
    "cv.destroyAllWindows()"
   ]
  },
  {
   "cell_type": "code",
   "execution_count": 13,
   "id": "449d4c39",
   "metadata": {},
   "outputs": [],
   "source": [
    "cv.imshow('Ejemplo', img)\n",
    "cv.waitKey(0)\n",
    "cv.destroyAllWindows()"
   ]
  },
  {
   "cell_type": "code",
   "execution_count": null,
   "id": "83f67863",
   "metadata": {},
   "outputs": [],
   "source": []
  }
 ],
 "metadata": {
  "kernelspec": {
   "display_name": "Python 3 (ipykernel)",
   "language": "python",
   "name": "python3"
  },
  "language_info": {
   "codemirror_mode": {
    "name": "ipython",
    "version": 3
   },
   "file_extension": ".py",
   "mimetype": "text/x-python",
   "name": "python",
   "nbconvert_exporter": "python",
   "pygments_lexer": "ipython3",
   "version": "3.11.5"
  }
 },
 "nbformat": 4,
 "nbformat_minor": 5
}
